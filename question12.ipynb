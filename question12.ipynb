{
 "cells": [
  {
   "cell_type": "markdown",
   "id": "82824d13-b473-4ab8-a7d1-da89bf223c90",
   "metadata": {},
   "source": [
    "We are currently working in the following directory:"
   ]
  },
  {
   "cell_type": "code",
   "execution_count": 1,
   "id": "620fdbf7-0e12-495c-b556-7f067dab0f27",
   "metadata": {},
   "outputs": [
    {
     "name": "stdout",
     "output_type": "stream",
     "text": [
      "/c/Users/pmarshal/jupyterlab_practice\n"
     ]
    }
   ],
   "source": [
    "!pwd"
   ]
  },
  {
   "cell_type": "markdown",
   "id": "17a86634-cc68-4746-8f19-0724e6d95681",
   "metadata": {},
   "source": [
    "To time how long it takes to run a Python cell, we could use the timeit command inside a cell as is shown below: "
   ]
  },
  {
   "cell_type": "markdown",
   "id": "2aa2b754-0d9e-4f56-8ad8-3b779ef81517",
   "metadata": {},
   "source": [
    "`%%timeit`"
   ]
  },
  {
   "cell_type": "markdown",
   "id": "138d7e69-8059-44cf-baea-a3540d344940",
   "metadata": {},
   "source": [
    "Followed by the proper use of the timeit command to time the following loop:\n",
    "\n",
    "```\n",
    "%%timeit\n",
    "for i in range(1_000_000):\n",
    "    i**2\n",
    "```\n"
   ]
  },
  {
   "cell_type": "code",
   "execution_count": 6,
   "id": "91333bd0-1d5e-41c8-81b7-6a2cadc8e8c9",
   "metadata": {},
   "outputs": [
    {
     "name": "stderr",
     "output_type": "stream",
     "text": [
      "UsageError: Line magic function `%%timeit` not found.\n"
     ]
    }
   ],
   "source": [
    "#done in a code cell\n",
    "%%timeit\n",
    "for i in range(1_000_000):\n",
    "    i**2\n",
    "#this ran initially but didn't after restarting"
   ]
  },
  {
   "cell_type": "code",
   "execution_count": 5,
   "id": "9003ab9f-c6ae-434e-83ca-d81c20fd1959",
   "metadata": {},
   "outputs": [
    {
     "name": "stderr",
     "output_type": "stream",
     "text": [
      "[NbConvertApp] WARNING | Config option `kernel_spec_manager_class` not recognized by `NbConvertApp`.\n",
      "[NbConvertApp] Converting notebook question12.ipynb to html\n",
      "[NbConvertApp] Writing 607577 bytes to question12.html\n"
     ]
    }
   ],
   "source": [
    "!jupyter nbconvert question12.ipynb \\\n",
    "    --to html \\\n",
    "    --output=question12.html \\\n",
    "    --no-input"
   ]
  },
  {
   "cell_type": "code",
   "execution_count": null,
   "id": "92283813-2256-4dba-988f-548aaa131b3b",
   "metadata": {},
   "outputs": [],
   "source": []
  }
 ],
 "metadata": {
  "kernelspec": {
   "display_name": "Python 3 (ipykernel)",
   "language": "python",
   "name": "python3"
  },
  "language_info": {
   "codemirror_mode": {
    "name": "ipython",
    "version": 3
   },
   "file_extension": ".py",
   "mimetype": "text/x-python",
   "name": "python",
   "nbconvert_exporter": "python",
   "pygments_lexer": "ipython3",
   "version": "3.9.12"
  }
 },
 "nbformat": 4,
 "nbformat_minor": 5
}
